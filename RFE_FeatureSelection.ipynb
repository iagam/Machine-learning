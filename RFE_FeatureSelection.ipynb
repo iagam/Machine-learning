{
 "cells": [
  {
   "cell_type": "code",
   "execution_count": 1,
   "metadata": {},
   "outputs": [],
   "source": [
    "import pandas as pd\n",
    "import numpy as np\n",
    "import matplotlib.pyplot as plt\n",
    "import math"
   ]
  },
  {
   "cell_type": "code",
   "execution_count": 3,
   "metadata": {},
   "outputs": [
    {
     "data": {
      "text/plain": [
       "(449371, 255)"
      ]
     },
     "execution_count": 3,
     "metadata": {},
     "output_type": "execute_result"
    }
   ],
   "source": [
    "nfl = pd.read_csv('C:/Users/OYO/Desktop/NFL_Folder/nfl_play.csv',low_memory=False)\n",
    "nfl.shape"
   ]
  },
  {
   "cell_type": "code",
   "execution_count": 7,
   "metadata": {},
   "outputs": [
    {
     "data": {
      "text/html": [
       "<div>\n",
       "<style scoped>\n",
       "    .dataframe tbody tr th:only-of-type {\n",
       "        vertical-align: middle;\n",
       "    }\n",
       "\n",
       "    .dataframe tbody tr th {\n",
       "        vertical-align: top;\n",
       "    }\n",
       "\n",
       "    .dataframe thead th {\n",
       "        text-align: right;\n",
       "    }\n",
       "</style>\n",
       "<table border=\"1\" class=\"dataframe\">\n",
       "  <thead>\n",
       "    <tr style=\"text-align: right;\">\n",
       "      <th></th>\n",
       "      <th>posteam</th>\n",
       "      <th>defteam</th>\n",
       "      <th>qtr</th>\n",
       "      <th>yardline_100</th>\n",
       "      <th>quarter_seconds_remaining</th>\n",
       "      <th>half_seconds_remaining</th>\n",
       "      <th>posteam_score</th>\n",
       "      <th>defteam_score</th>\n",
       "      <th>no_score_prob</th>\n",
       "      <th>td_prob</th>\n",
       "      <th>touchdown</th>\n",
       "      <th>fourth_down_converted</th>\n",
       "      <th>down</th>\n",
       "      <th>play_type</th>\n",
       "    </tr>\n",
       "  </thead>\n",
       "  <tbody>\n",
       "    <tr>\n",
       "      <td>0</td>\n",
       "      <td>PIT</td>\n",
       "      <td>TEN</td>\n",
       "      <td>1</td>\n",
       "      <td>30.0</td>\n",
       "      <td>900.0</td>\n",
       "      <td>1800.0</td>\n",
       "      <td>NaN</td>\n",
       "      <td>NaN</td>\n",
       "      <td>0.001506</td>\n",
       "      <td>0.313676</td>\n",
       "      <td>0.0</td>\n",
       "      <td>0.0</td>\n",
       "      <td>NaN</td>\n",
       "      <td>kickoff</td>\n",
       "    </tr>\n",
       "    <tr>\n",
       "      <td>1</td>\n",
       "      <td>PIT</td>\n",
       "      <td>TEN</td>\n",
       "      <td>1</td>\n",
       "      <td>58.0</td>\n",
       "      <td>893.0</td>\n",
       "      <td>1793.0</td>\n",
       "      <td>0.0</td>\n",
       "      <td>0.0</td>\n",
       "      <td>0.000969</td>\n",
       "      <td>0.423011</td>\n",
       "      <td>0.0</td>\n",
       "      <td>0.0</td>\n",
       "      <td>1.0</td>\n",
       "      <td>pass</td>\n",
       "    </tr>\n",
       "    <tr>\n",
       "      <td>2</td>\n",
       "      <td>PIT</td>\n",
       "      <td>TEN</td>\n",
       "      <td>1</td>\n",
       "      <td>53.0</td>\n",
       "      <td>856.0</td>\n",
       "      <td>1756.0</td>\n",
       "      <td>0.0</td>\n",
       "      <td>0.0</td>\n",
       "      <td>0.001057</td>\n",
       "      <td>0.421478</td>\n",
       "      <td>0.0</td>\n",
       "      <td>0.0</td>\n",
       "      <td>2.0</td>\n",
       "      <td>run</td>\n",
       "    </tr>\n",
       "    <tr>\n",
       "      <td>3</td>\n",
       "      <td>PIT</td>\n",
       "      <td>TEN</td>\n",
       "      <td>1</td>\n",
       "      <td>56.0</td>\n",
       "      <td>815.0</td>\n",
       "      <td>1715.0</td>\n",
       "      <td>0.0</td>\n",
       "      <td>0.0</td>\n",
       "      <td>0.001434</td>\n",
       "      <td>0.318621</td>\n",
       "      <td>0.0</td>\n",
       "      <td>0.0</td>\n",
       "      <td>3.0</td>\n",
       "      <td>pass</td>\n",
       "    </tr>\n",
       "    <tr>\n",
       "      <td>4</td>\n",
       "      <td>PIT</td>\n",
       "      <td>TEN</td>\n",
       "      <td>1</td>\n",
       "      <td>56.0</td>\n",
       "      <td>807.0</td>\n",
       "      <td>1707.0</td>\n",
       "      <td>0.0</td>\n",
       "      <td>0.0</td>\n",
       "      <td>0.001861</td>\n",
       "      <td>0.208111</td>\n",
       "      <td>0.0</td>\n",
       "      <td>0.0</td>\n",
       "      <td>4.0</td>\n",
       "      <td>punt</td>\n",
       "    </tr>\n",
       "  </tbody>\n",
       "</table>\n",
       "</div>"
      ],
      "text/plain": [
       "  posteam defteam  qtr  yardline_100  quarter_seconds_remaining  \\\n",
       "0     PIT     TEN    1          30.0                      900.0   \n",
       "1     PIT     TEN    1          58.0                      893.0   \n",
       "2     PIT     TEN    1          53.0                      856.0   \n",
       "3     PIT     TEN    1          56.0                      815.0   \n",
       "4     PIT     TEN    1          56.0                      807.0   \n",
       "\n",
       "   half_seconds_remaining  posteam_score  defteam_score  no_score_prob  \\\n",
       "0                  1800.0            NaN            NaN       0.001506   \n",
       "1                  1793.0            0.0            0.0       0.000969   \n",
       "2                  1756.0            0.0            0.0       0.001057   \n",
       "3                  1715.0            0.0            0.0       0.001434   \n",
       "4                  1707.0            0.0            0.0       0.001861   \n",
       "\n",
       "    td_prob  touchdown  fourth_down_converted  down play_type  \n",
       "0  0.313676        0.0                    0.0   NaN   kickoff  \n",
       "1  0.423011        0.0                    0.0   1.0      pass  \n",
       "2  0.421478        0.0                    0.0   2.0       run  \n",
       "3  0.318621        0.0                    0.0   3.0      pass  \n",
       "4  0.208111        0.0                    0.0   4.0      punt  "
      ]
     },
     "execution_count": 7,
     "metadata": {},
     "output_type": "execute_result"
    }
   ],
   "source": [
    "data = nfl[['posteam','defteam','qtr','yardline_100','quarter_seconds_remaining','half_seconds_remaining',\n",
    "                       'posteam_score','defteam_score','no_score_prob','td_prob',\n",
    "           'touchdown','fourth_down_converted','down','play_type']]\n",
    "data.head()"
   ]
  },
  {
   "cell_type": "code",
   "execution_count": 8,
   "metadata": {},
   "outputs": [
    {
     "data": {
      "text/plain": [
       "(39644, 14)"
      ]
     },
     "execution_count": 8,
     "metadata": {},
     "output_type": "execute_result"
    }
   ],
   "source": [
    "data = data[(data['down'] == 4.0)]\n",
    "data.shape"
   ]
  },
  {
   "cell_type": "code",
   "execution_count": 9,
   "metadata": {},
   "outputs": [
    {
     "data": {
      "text/plain": [
       "posteam                      119\n",
       "defteam                      119\n",
       "qtr                            0\n",
       "yardline_100                 119\n",
       "quarter_seconds_remaining      0\n",
       "half_seconds_remaining         2\n",
       "posteam_score                119\n",
       "defteam_score                119\n",
       "no_score_prob                  0\n",
       "td_prob                        0\n",
       "touchdown                    119\n",
       "fourth_down_converted        119\n",
       "down                           0\n",
       "play_type                    119\n",
       "dtype: int64"
      ]
     },
     "execution_count": 9,
     "metadata": {},
     "output_type": "execute_result"
    }
   ],
   "source": [
    "data.isnull().sum()"
   ]
  },
  {
   "cell_type": "code",
   "execution_count": 10,
   "metadata": {},
   "outputs": [
    {
     "data": {
      "text/plain": [
       "(39523, 14)"
      ]
     },
     "execution_count": 10,
     "metadata": {},
     "output_type": "execute_result"
    }
   ],
   "source": [
    "data.dropna(how='any',inplace=True)\n",
    "data.shape"
   ]
  },
  {
   "cell_type": "code",
   "execution_count": 11,
   "metadata": {},
   "outputs": [],
   "source": [
    "from sklearn.preprocessing import LabelEncoder\n",
    "\n",
    "label = LabelEncoder()\n",
    "pos_team = label.fit_transform(data['posteam'])\n",
    "def_team = label.fit_transform(data['defteam'])\n",
    "play_type = label.fit_transform(data['play_type'])\n",
    "\n",
    "data['pos_team'] = pos_team\n",
    "data['def_team'] = def_team\n",
    "data['play_type'] = play_type"
   ]
  },
  {
   "cell_type": "code",
   "execution_count": 12,
   "metadata": {},
   "outputs": [],
   "source": [
    "data.drop(['posteam','defteam'],axis=1,inplace=True)"
   ]
  },
  {
   "cell_type": "code",
   "execution_count": 13,
   "metadata": {},
   "outputs": [
    {
     "data": {
      "text/html": [
       "<div>\n",
       "<style scoped>\n",
       "    .dataframe tbody tr th:only-of-type {\n",
       "        vertical-align: middle;\n",
       "    }\n",
       "\n",
       "    .dataframe tbody tr th {\n",
       "        vertical-align: top;\n",
       "    }\n",
       "\n",
       "    .dataframe thead th {\n",
       "        text-align: right;\n",
       "    }\n",
       "</style>\n",
       "<table border=\"1\" class=\"dataframe\">\n",
       "  <thead>\n",
       "    <tr style=\"text-align: right;\">\n",
       "      <th></th>\n",
       "      <th>qtr</th>\n",
       "      <th>yardline_100</th>\n",
       "      <th>quarter_seconds_remaining</th>\n",
       "      <th>half_seconds_remaining</th>\n",
       "      <th>posteam_score</th>\n",
       "      <th>defteam_score</th>\n",
       "      <th>no_score_prob</th>\n",
       "      <th>td_prob</th>\n",
       "      <th>touchdown</th>\n",
       "      <th>fourth_down_converted</th>\n",
       "      <th>down</th>\n",
       "      <th>play_type</th>\n",
       "      <th>pos_team</th>\n",
       "      <th>def_team</th>\n",
       "    </tr>\n",
       "  </thead>\n",
       "  <tbody>\n",
       "    <tr>\n",
       "      <td>4</td>\n",
       "      <td>1</td>\n",
       "      <td>0.210318</td>\n",
       "      <td>1.482393</td>\n",
       "      <td>1.709710</td>\n",
       "      <td>-1.052662</td>\n",
       "      <td>-1.138157</td>\n",
       "      <td>0.001861</td>\n",
       "      <td>0.208111</td>\n",
       "      <td>0.0</td>\n",
       "      <td>0.0</td>\n",
       "      <td>4.0</td>\n",
       "      <td>3</td>\n",
       "      <td>27</td>\n",
       "      <td>33</td>\n",
       "    </tr>\n",
       "    <tr>\n",
       "      <td>8</td>\n",
       "      <td>1</td>\n",
       "      <td>1.804706</td>\n",
       "      <td>1.055167</td>\n",
       "      <td>1.495628</td>\n",
       "      <td>-1.052662</td>\n",
       "      <td>-1.138157</td>\n",
       "      <td>0.003023</td>\n",
       "      <td>0.135991</td>\n",
       "      <td>0.0</td>\n",
       "      <td>0.0</td>\n",
       "      <td>4.0</td>\n",
       "      <td>3</td>\n",
       "      <td>33</td>\n",
       "      <td>27</td>\n",
       "    </tr>\n",
       "    <tr>\n",
       "      <td>14</td>\n",
       "      <td>1</td>\n",
       "      <td>-0.387578</td>\n",
       "      <td>0.340603</td>\n",
       "      <td>1.137561</td>\n",
       "      <td>-1.052662</td>\n",
       "      <td>-1.138157</td>\n",
       "      <td>0.004547</td>\n",
       "      <td>0.150286</td>\n",
       "      <td>0.0</td>\n",
       "      <td>0.0</td>\n",
       "      <td>4.0</td>\n",
       "      <td>3</td>\n",
       "      <td>27</td>\n",
       "      <td>33</td>\n",
       "    </tr>\n",
       "    <tr>\n",
       "      <td>20</td>\n",
       "      <td>1</td>\n",
       "      <td>-1.264491</td>\n",
       "      <td>-0.026131</td>\n",
       "      <td>0.953792</td>\n",
       "      <td>-1.052662</td>\n",
       "      <td>-1.138157</td>\n",
       "      <td>0.001197</td>\n",
       "      <td>0.028760</td>\n",
       "      <td>0.0</td>\n",
       "      <td>0.0</td>\n",
       "      <td>4.0</td>\n",
       "      <td>0</td>\n",
       "      <td>33</td>\n",
       "      <td>27</td>\n",
       "    </tr>\n",
       "    <tr>\n",
       "      <td>24</td>\n",
       "      <td>1</td>\n",
       "      <td>1.127091</td>\n",
       "      <td>-0.426892</td>\n",
       "      <td>0.752971</td>\n",
       "      <td>-1.052662</td>\n",
       "      <td>-1.138157</td>\n",
       "      <td>0.015674</td>\n",
       "      <td>0.157581</td>\n",
       "      <td>0.0</td>\n",
       "      <td>0.0</td>\n",
       "      <td>4.0</td>\n",
       "      <td>3</td>\n",
       "      <td>27</td>\n",
       "      <td>33</td>\n",
       "    </tr>\n",
       "  </tbody>\n",
       "</table>\n",
       "</div>"
      ],
      "text/plain": [
       "    qtr  yardline_100  quarter_seconds_remaining  half_seconds_remaining  \\\n",
       "4     1      0.210318                   1.482393                1.709710   \n",
       "8     1      1.804706                   1.055167                1.495628   \n",
       "14    1     -0.387578                   0.340603                1.137561   \n",
       "20    1     -1.264491                  -0.026131                0.953792   \n",
       "24    1      1.127091                  -0.426892                0.752971   \n",
       "\n",
       "    posteam_score  defteam_score  no_score_prob   td_prob  touchdown  \\\n",
       "4       -1.052662      -1.138157       0.001861  0.208111        0.0   \n",
       "8       -1.052662      -1.138157       0.003023  0.135991        0.0   \n",
       "14      -1.052662      -1.138157       0.004547  0.150286        0.0   \n",
       "20      -1.052662      -1.138157       0.001197  0.028760        0.0   \n",
       "24      -1.052662      -1.138157       0.015674  0.157581        0.0   \n",
       "\n",
       "    fourth_down_converted  down  play_type  pos_team  def_team  \n",
       "4                     0.0   4.0          3        27        33  \n",
       "8                     0.0   4.0          3        33        27  \n",
       "14                    0.0   4.0          3        27        33  \n",
       "20                    0.0   4.0          0        33        27  \n",
       "24                    0.0   4.0          3        27        33  "
      ]
     },
     "execution_count": 13,
     "metadata": {},
     "output_type": "execute_result"
    }
   ],
   "source": [
    "from sklearn.preprocessing import StandardScaler\n",
    "\n",
    "scaler = StandardScaler()\n",
    "data[['yardline_100','quarter_seconds_remaining','half_seconds_remaining',\n",
    "                       'posteam_score','defteam_score']] = scaler.fit_transform(data[['yardline_100','quarter_seconds_remaining','half_seconds_remaining',\n",
    "                       'posteam_score','defteam_score']])\n",
    "data.head()"
   ]
  },
  {
   "cell_type": "code",
   "execution_count": 14,
   "metadata": {},
   "outputs": [
    {
     "data": {
      "text/html": [
       "<div>\n",
       "<style scoped>\n",
       "    .dataframe tbody tr th:only-of-type {\n",
       "        vertical-align: middle;\n",
       "    }\n",
       "\n",
       "    .dataframe tbody tr th {\n",
       "        vertical-align: top;\n",
       "    }\n",
       "\n",
       "    .dataframe thead th {\n",
       "        text-align: right;\n",
       "    }\n",
       "</style>\n",
       "<table border=\"1\" class=\"dataframe\">\n",
       "  <thead>\n",
       "    <tr style=\"text-align: right;\">\n",
       "      <th></th>\n",
       "      <th>qtr</th>\n",
       "      <th>yardline_100</th>\n",
       "      <th>quarter_seconds_remaining</th>\n",
       "      <th>half_seconds_remaining</th>\n",
       "      <th>posteam_score</th>\n",
       "      <th>defteam_score</th>\n",
       "      <th>no_score_prob</th>\n",
       "      <th>td_prob</th>\n",
       "      <th>touchdown</th>\n",
       "      <th>fourth_down_converted</th>\n",
       "      <th>play_type</th>\n",
       "      <th>pos_team</th>\n",
       "      <th>def_team</th>\n",
       "    </tr>\n",
       "  </thead>\n",
       "  <tbody>\n",
       "    <tr>\n",
       "      <td>4</td>\n",
       "      <td>1</td>\n",
       "      <td>0.210318</td>\n",
       "      <td>1.482393</td>\n",
       "      <td>1.709710</td>\n",
       "      <td>-1.052662</td>\n",
       "      <td>-1.138157</td>\n",
       "      <td>0.001861</td>\n",
       "      <td>0.208111</td>\n",
       "      <td>0</td>\n",
       "      <td>0</td>\n",
       "      <td>3</td>\n",
       "      <td>27</td>\n",
       "      <td>33</td>\n",
       "    </tr>\n",
       "    <tr>\n",
       "      <td>8</td>\n",
       "      <td>1</td>\n",
       "      <td>1.804706</td>\n",
       "      <td>1.055167</td>\n",
       "      <td>1.495628</td>\n",
       "      <td>-1.052662</td>\n",
       "      <td>-1.138157</td>\n",
       "      <td>0.003023</td>\n",
       "      <td>0.135991</td>\n",
       "      <td>0</td>\n",
       "      <td>0</td>\n",
       "      <td>3</td>\n",
       "      <td>33</td>\n",
       "      <td>27</td>\n",
       "    </tr>\n",
       "    <tr>\n",
       "      <td>14</td>\n",
       "      <td>1</td>\n",
       "      <td>-0.387578</td>\n",
       "      <td>0.340603</td>\n",
       "      <td>1.137561</td>\n",
       "      <td>-1.052662</td>\n",
       "      <td>-1.138157</td>\n",
       "      <td>0.004547</td>\n",
       "      <td>0.150286</td>\n",
       "      <td>0</td>\n",
       "      <td>0</td>\n",
       "      <td>3</td>\n",
       "      <td>27</td>\n",
       "      <td>33</td>\n",
       "    </tr>\n",
       "    <tr>\n",
       "      <td>20</td>\n",
       "      <td>1</td>\n",
       "      <td>-1.264491</td>\n",
       "      <td>-0.026131</td>\n",
       "      <td>0.953792</td>\n",
       "      <td>-1.052662</td>\n",
       "      <td>-1.138157</td>\n",
       "      <td>0.001197</td>\n",
       "      <td>0.028760</td>\n",
       "      <td>0</td>\n",
       "      <td>0</td>\n",
       "      <td>0</td>\n",
       "      <td>33</td>\n",
       "      <td>27</td>\n",
       "    </tr>\n",
       "    <tr>\n",
       "      <td>24</td>\n",
       "      <td>1</td>\n",
       "      <td>1.127091</td>\n",
       "      <td>-0.426892</td>\n",
       "      <td>0.752971</td>\n",
       "      <td>-1.052662</td>\n",
       "      <td>-1.138157</td>\n",
       "      <td>0.015674</td>\n",
       "      <td>0.157581</td>\n",
       "      <td>0</td>\n",
       "      <td>0</td>\n",
       "      <td>3</td>\n",
       "      <td>27</td>\n",
       "      <td>33</td>\n",
       "    </tr>\n",
       "  </tbody>\n",
       "</table>\n",
       "</div>"
      ],
      "text/plain": [
       "    qtr  yardline_100  quarter_seconds_remaining  half_seconds_remaining  \\\n",
       "4     1      0.210318                   1.482393                1.709710   \n",
       "8     1      1.804706                   1.055167                1.495628   \n",
       "14    1     -0.387578                   0.340603                1.137561   \n",
       "20    1     -1.264491                  -0.026131                0.953792   \n",
       "24    1      1.127091                  -0.426892                0.752971   \n",
       "\n",
       "    posteam_score  defteam_score  no_score_prob   td_prob  touchdown  \\\n",
       "4       -1.052662      -1.138157       0.001861  0.208111          0   \n",
       "8       -1.052662      -1.138157       0.003023  0.135991          0   \n",
       "14      -1.052662      -1.138157       0.004547  0.150286          0   \n",
       "20      -1.052662      -1.138157       0.001197  0.028760          0   \n",
       "24      -1.052662      -1.138157       0.015674  0.157581          0   \n",
       "\n",
       "    fourth_down_converted  play_type  pos_team  def_team  \n",
       "4                       0          3        27        33  \n",
       "8                       0          3        33        27  \n",
       "14                      0          3        27        33  \n",
       "20                      0          0        33        27  \n",
       "24                      0          3        27        33  "
      ]
     },
     "execution_count": 14,
     "metadata": {},
     "output_type": "execute_result"
    }
   ],
   "source": [
    "data['touchdown'] = data['touchdown'].astype('int')\n",
    "data['fourth_down_converted'] = data['fourth_down_converted'].astype('int')\n",
    "data.drop('down',axis=1,inplace=True)\n",
    "data.head()"
   ]
  },
  {
   "cell_type": "code",
   "execution_count": 15,
   "metadata": {},
   "outputs": [],
   "source": [
    "X = data.drop('fourth_down_converted',axis=1)\n",
    "y = data['fourth_down_converted']"
   ]
  },
  {
   "cell_type": "code",
   "execution_count": 16,
   "metadata": {},
   "outputs": [
    {
     "name": "stdout",
     "output_type": "stream",
     "text": [
      "(26480, 12)\n",
      "(13043, 12)\n"
     ]
    }
   ],
   "source": [
    "from sklearn.model_selection import train_test_split\n",
    "X_train, X_test, y_train, y_test = train_test_split(X,y,test_size=0.33,random_state=42)\n",
    "print(X_train.shape)\n",
    "print(X_test.shape)"
   ]
  },
  {
   "cell_type": "code",
   "execution_count": 17,
   "metadata": {},
   "outputs": [
    {
     "name": "stderr",
     "output_type": "stream",
     "text": [
      "C:\\Users\\OYO\\Anaconda3\\lib\\site-packages\\sklearn\\linear_model\\logistic.py:432: FutureWarning: Default solver will be changed to 'lbfgs' in 0.22. Specify a solver to silence this warning.\n",
      "  FutureWarning)\n",
      "C:\\Users\\OYO\\Anaconda3\\lib\\site-packages\\sklearn\\linear_model\\logistic.py:432: FutureWarning: Default solver will be changed to 'lbfgs' in 0.22. Specify a solver to silence this warning.\n",
      "  FutureWarning)\n",
      "C:\\Users\\OYO\\Anaconda3\\lib\\site-packages\\sklearn\\linear_model\\logistic.py:432: FutureWarning: Default solver will be changed to 'lbfgs' in 0.22. Specify a solver to silence this warning.\n",
      "  FutureWarning)\n",
      "C:\\Users\\OYO\\Anaconda3\\lib\\site-packages\\sklearn\\linear_model\\logistic.py:432: FutureWarning: Default solver will be changed to 'lbfgs' in 0.22. Specify a solver to silence this warning.\n",
      "  FutureWarning)\n",
      "C:\\Users\\OYO\\Anaconda3\\lib\\site-packages\\sklearn\\linear_model\\logistic.py:432: FutureWarning: Default solver will be changed to 'lbfgs' in 0.22. Specify a solver to silence this warning.\n",
      "  FutureWarning)\n",
      "C:\\Users\\OYO\\Anaconda3\\lib\\site-packages\\sklearn\\linear_model\\logistic.py:432: FutureWarning: Default solver will be changed to 'lbfgs' in 0.22. Specify a solver to silence this warning.\n",
      "  FutureWarning)\n"
     ]
    },
    {
     "data": {
      "text/plain": [
       "array([False,  True, False, False,  True,  True,  True,  True,  True,\n",
       "        True, False, False])"
      ]
     },
     "execution_count": 17,
     "metadata": {},
     "output_type": "execute_result"
    }
   ],
   "source": [
    "from sklearn.linear_model import LogisticRegression\n",
    "lr_model = LogisticRegression(max_iter=100, random_state=42)\n",
    "\n",
    "from sklearn.feature_selection import RFE\n",
    "selector = RFE(lr_model, 7, step=1)\n",
    "selector = selector.fit(X, y)\n",
    "selector.support_"
   ]
  },
  {
   "cell_type": "code",
   "execution_count": 18,
   "metadata": {},
   "outputs": [
    {
     "data": {
      "text/plain": [
       "array([2, 1, 4, 3, 1, 1, 1, 1, 1, 1, 6, 5])"
      ]
     },
     "execution_count": 18,
     "metadata": {},
     "output_type": "execute_result"
    }
   ],
   "source": [
    "selector.ranking_"
   ]
  },
  {
   "cell_type": "code",
   "execution_count": 21,
   "metadata": {},
   "outputs": [
    {
     "data": {
      "text/plain": [
       "<bound method BaseEstimator.get_params of RFE(estimator=LogisticRegression(C=1.0, class_weight=None, dual=False,\n",
       "                                 fit_intercept=True, intercept_scaling=1,\n",
       "                                 l1_ratio=None, max_iter=100,\n",
       "                                 multi_class='warn', n_jobs=None, penalty='l2',\n",
       "                                 random_state=42, solver='warn', tol=0.0001,\n",
       "                                 verbose=0, warm_start=False),\n",
       "    n_features_to_select=7, step=1, verbose=0)>"
      ]
     },
     "execution_count": 21,
     "metadata": {},
     "output_type": "execute_result"
    }
   ],
   "source": [
    "selector.get_params"
   ]
  },
  {
   "cell_type": "code",
   "execution_count": 22,
   "metadata": {},
   "outputs": [
    {
     "name": "stderr",
     "output_type": "stream",
     "text": [
      "C:\\Users\\OYO\\Anaconda3\\lib\\site-packages\\sklearn\\linear_model\\logistic.py:432: FutureWarning: Default solver will be changed to 'lbfgs' in 0.22. Specify a solver to silence this warning.\n",
      "  FutureWarning)\n"
     ]
    },
    {
     "data": {
      "text/plain": [
       "0.9514682205014184"
      ]
     },
     "execution_count": 22,
     "metadata": {},
     "output_type": "execute_result"
    }
   ],
   "source": [
    "lr_model2 = LogisticRegression(C=1.0, class_weight=None, dual=False,\n",
    "                                 fit_intercept=True, intercept_scaling=1,\n",
    "                                 l1_ratio=None, max_iter=100,\n",
    "                                 multi_class='warn', n_jobs=None, penalty='l2',\n",
    "                                 random_state=42, solver='warn', tol=0.0001,\n",
    "                                 verbose=0, warm_start=False)\n",
    "lr_model2.fit(X_train, y_train)\n",
    "\n",
    "y_pred_lr2 = lr_model2.predict(X_test)\n",
    "from sklearn.metrics import accuracy_score\n",
    "accuracy_score(y_test, y_pred_lr2)"
   ]
  },
  {
   "cell_type": "code",
   "execution_count": null,
   "metadata": {},
   "outputs": [],
   "source": []
  }
 ],
 "metadata": {
  "kernelspec": {
   "display_name": "Python 3",
   "language": "python",
   "name": "python3"
  },
  "language_info": {
   "codemirror_mode": {
    "name": "ipython",
    "version": 3
   },
   "file_extension": ".py",
   "mimetype": "text/x-python",
   "name": "python",
   "nbconvert_exporter": "python",
   "pygments_lexer": "ipython3",
   "version": "3.7.4"
  }
 },
 "nbformat": 4,
 "nbformat_minor": 2
}
