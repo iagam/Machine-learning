{
 "cells": [
  {
   "cell_type": "code",
   "execution_count": 68,
   "metadata": {},
   "outputs": [],
   "source": [
    "import numpy as np\n",
    "import pandas as pd\n",
    "import seaborn as sns\n",
    "import matplotlib.pyplot as plt\n",
    "import time\n",
    "import math\n",
    "import statsmodels.api as sm\n",
    "from sklearn.feature_selection import RFE"
   ]
  },
  {
   "cell_type": "code",
   "execution_count": 3,
   "metadata": {},
   "outputs": [
    {
     "name": "stdout",
     "output_type": "stream",
     "text": [
      "(80, 1)\n",
      "(80,)\n"
     ]
    }
   ],
   "source": [
    "from sklearn.datasets import make_regression\n",
    "from sklearn.model_selection import train_test_split\n",
    "\n",
    "X_R1, y_R1 = make_regression(n_samples = 100, n_features=1,\n",
    "                            n_informative=1, bias = 150.0,\n",
    "                            noise = 30, random_state=0)\n",
    "\n",
    "X_train, X_test, y_train, y_test = train_test_split(X_R1, y_R1, test_size = 0.2, random_state = 0)\n",
    "print(X_train.shape)\n",
    "print(y_train.shape)"
   ]
  },
  {
   "cell_type": "code",
   "execution_count": 12,
   "metadata": {},
   "outputs": [
    {
     "name": "stdout",
     "output_type": "stream",
     "text": [
      "(16512, 8)\n",
      "(4128, 8)\n"
     ]
    }
   ],
   "source": [
    "from sklearn.datasets.california_housing import fetch_california_housing\n",
    "\n",
    "data = fetch_california_housing()\n",
    "X = data.data\n",
    "y = data.target\n",
    "\n",
    "X_train, X_test, y_train, y_test = train_test_split(X,y,test_size=0.2,random_state=0)\n",
    "print(X_train.shape)\n",
    "print(X_test.shape)"
   ]
  },
  {
   "cell_type": "code",
   "execution_count": 44,
   "metadata": {},
   "outputs": [
    {
     "data": {
      "text/plain": [
       "[('MedInc', 0.69),\n",
       " ('HouseAge', 0.11),\n",
       " ('AveRooms', 0.15),\n",
       " ('AveBedrms', -0.05),\n",
       " ('Population', -0.02),\n",
       " ('AveOccup', -0.02),\n",
       " ('Latitude', -0.14),\n",
       " ('Longitude', -0.05)]"
      ]
     },
     "execution_count": 44,
     "metadata": {},
     "output_type": "execute_result"
    }
   ],
   "source": [
    "#Check for correlation\n",
    "corr_coef = []\n",
    "feature_names = data.feature_names\n",
    "for i in range(0,X.shape[1]):\n",
    "    corr_coef.append(np.corrcoef([X[:,i],y])[0][1])\n",
    "    \n",
    "corr_list = list(zip(feature_names,np.round(corr_coef,2)))\n",
    "corr_list"
   ]
  },
  {
   "cell_type": "code",
   "execution_count": 64,
   "metadata": {},
   "outputs": [
    {
     "data": {
      "text/plain": [
       "[('MedInc', 0.0),\n",
       " ('HouseAge', 0.0),\n",
       " ('AveRooms', 3.5054851557541564e-98),\n",
       " ('AveBedrms', 1.0263111220955099e-73),\n",
       " ('Population', 6.7257255634219245e-115),\n",
       " ('AveOccup', 0.4024471960866557),\n",
       " ('Latitude', 8.303694234295882e-15),\n",
       " ('Longitude', 0.0)]"
      ]
     },
     "execution_count": 64,
     "metadata": {},
     "output_type": "execute_result"
    }
   ],
   "source": [
    "# Feature selection using p-value\n",
    "\n",
    "X_1 = sm.add_constant(X)\n",
    "\n",
    "#Fitting sm.OLS model\n",
    "model = sm.OLS(y,X_1).fit()\n",
    "p_values = model.pvalues\n",
    "p_values_list = list(zip(feature_names,p_values))\n",
    "p_values_list"
   ]
  },
  {
   "cell_type": "code",
   "execution_count": 70,
   "metadata": {},
   "outputs": [
    {
     "name": "stdout",
     "output_type": "stream",
     "text": [
      "Optimum number of features: 7\n",
      "Score with 7 features: 0.594456\n"
     ]
    }
   ],
   "source": [
    "# Feature selection using RFE\n",
    "\n",
    "#no of features\n",
    "nof_list=np.arange(1,X.shape[1])            \n",
    "high_score=0\n",
    "#Variable to store the optimum features\n",
    "nof=0           \n",
    "score_list =[]\n",
    "for n in range(len(nof_list)):\n",
    "    X_train, X_test, y_train, y_test = train_test_split(X,y, test_size = 0.2, random_state = 0)\n",
    "    \n",
    "    from sklearn.linear_model import Ridge\n",
    "    model = Ridge()\n",
    "    rfe = RFE(model,nof_list[n])\n",
    "    \n",
    "    X_train_rfe = rfe.fit_transform(X_train,y_train)\n",
    "    X_test_rfe = rfe.transform(X_test)\n",
    "    model.fit(X_train_rfe,y_train)\n",
    "    score = model.score(X_test_rfe,y_test)\n",
    "    score_list.append(score)\n",
    "    \n",
    "    if(score>high_score):\n",
    "        high_score = score\n",
    "        nof = nof_list[n]\n",
    "print(\"Optimum number of features: %d\" %nof)\n",
    "print(\"Score with %d features: %f\" % (nof, high_score))"
   ]
  },
  {
   "cell_type": "code",
   "execution_count": 76,
   "metadata": {},
   "outputs": [
    {
     "name": "stdout",
     "output_type": "stream",
     "text": [
      "R-squared at alpha 0.001 = 0.594323249486012\n",
      "R-squared at alpha 0.01 = 0.5943231076401835\n",
      "R-squared at alpha 0.1 = 0.5943216891454707\n",
      "R-squared at alpha 1.0 = 0.594307500607028\n",
      "R-squared at alpha 10.0 = 0.5941653057212362\n",
      "R-squared at alpha 100 = 0.5927474563336848\n"
     ]
    }
   ],
   "source": [
    "# Ridge Regression with different alpha values\n",
    "\n",
    "for i in [0.001,0.01,0.1,1.0,10.0,100]:\n",
    "    model = Ridge(alpha = i)\n",
    "    model.fit(X_train,y_train)\n",
    "    print(f\"R-squared at alpha {i} = {model.score(X_test,y_test)}\")"
   ]
  },
  {
   "cell_type": "code",
   "execution_count": 83,
   "metadata": {},
   "outputs": [
    {
     "data": {
      "text/plain": [
       "Text(0, 0.5, 'R-squared value')"
      ]
     },
     "execution_count": 83,
     "metadata": {},
     "output_type": "execute_result"
    },
    {
     "data": {
      "image/png": "[encoded data removed]",
      "text/plain": [
       "<Figure size 432x288 with 1 Axes>"
      ]
     },
     "metadata": {
      "needs_background": "light"
     },
     "output_type": "display_data"
    }
   ],
   "source": [
    "alpha = [0.001,0.01,0.1,1.0,10.0,100]\n",
    "R_squared = [0.594323249486012,0.5943231076401835,0.5943216891454707,0.594307500607028,0.5941653057212362,0.5927474563336848]\n",
    "plt.plot(alpha,R_squared)\n",
    "plt.scatter(alpha,R_squared,marker=\"x\",c=\"red\")\n",
    "plt.xlabel(\"alpha value\")\n",
    "plt.ylabel(\"R-squared value\")"
   ]
  },
  {
   "cell_type": "code",
   "execution_count": null,
   "metadata": {},
   "outputs": [],
   "source": []
  }
 ],
 "metadata": {
  "kernelspec": {
   "display_name": "Python 3",
   "language": "python",
   "name": "python3"
  },
  "language_info": {
   "codemirror_mode": {
    "name": "ipython",
    "version": 3
   },
   "file_extension": ".py",
   "mimetype": "text/x-python",
   "name": "python",
   "nbconvert_exporter": "python",
   "pygments_lexer": "ipython3",
   "version": "3.7.4"
  }
 },
 "nbformat": 4,
 "nbformat_minor": 2
}
